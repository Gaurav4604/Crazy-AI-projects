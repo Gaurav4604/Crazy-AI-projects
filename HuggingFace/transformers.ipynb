{
 "cells": [
  {
   "cell_type": "code",
   "execution_count": 1,
   "metadata": {},
   "outputs": [
    {
     "name": "stderr",
     "output_type": "stream",
     "text": [
      "/Users/gauravsingh/Programming/ML/AI-stuff/HuggingFace/hugging-face/lib/python3.8/site-packages/tqdm/auto.py:21: TqdmWarning: IProgress not found. Please update jupyter and ipywidgets. See https://ipywidgets.readthedocs.io/en/stable/user_install.html\n",
      "  from .autonotebook import tqdm as notebook_tqdm\n",
      "2023-10-16 09:30:04.627191: I tensorflow/core/platform/cpu_feature_guard.cc:182] This TensorFlow binary is optimized to use available CPU instructions in performance-critical operations.\n",
      "To enable the following instructions: AVX2 FMA, in other operations, rebuild TensorFlow with the appropriate compiler flags.\n",
      "No model was supplied, defaulted to distilbert-base-uncased-finetuned-sst-2-english and revision af0f99b (https://huggingface.co/distilbert-base-uncased-finetuned-sst-2-english).\n",
      "Using a pipeline without specifying a model name and revision in production is not recommended.\n"
     ]
    }
   ],
   "source": [
    "from transformers import pipeline, AutoTokenizer\n",
    "\n",
    "# setup\n",
    "checkpoint = \"distilbert-base-uncased-finetuned-sst-2-english\"  # model name\n",
    "tokenizer = AutoTokenizer.from_pretrained(\n",
    "    checkpoint\n",
    ")  # creates a tokenizer based on this model\n",
    "classifier = pipeline(\"sentiment-analysis\")"
   ]
  },
  {
   "cell_type": "code",
   "execution_count": 2,
   "metadata": {},
   "outputs": [],
   "source": [
    "raw_inputs = [\n",
    "    \"I've been waiting for a something in my life\",\n",
    "    \"I hope I successfully complete my visa process\",\n",
    "    \"I hate having to see so many console logs\",\n",
    "]\n",
    "\n",
    "input_tensors = tokenizer(\n",
    "    raw_inputs, padding=True, truncation=True, return_tensors=\"pt\"\n",
    ")  # converting raw input to tensors which maps input values to number array (or tensor)\n"
   ]
  },
  {
   "cell_type": "code",
   "execution_count": 3,
   "metadata": {},
   "outputs": [
    {
     "name": "stdout",
     "output_type": "stream",
     "text": [
      "{'input_ids': tensor([[  101,  1045,  1005,  2310,  2042,  3403,  2005,  1037,  2242,  1999,\n",
      "          2026,  2166,   102],\n",
      "        [  101,  1045,  3246,  1045,  5147,  3143,  2026,  9425,  2832,   102,\n",
      "             0,     0,     0],\n",
      "        [  101,  1045,  5223,  2383,  2000,  2156,  2061,  2116, 10122, 15664,\n",
      "           102,     0,     0]]), 'attention_mask': tensor([[1, 1, 1, 1, 1, 1, 1, 1, 1, 1, 1, 1, 1],\n",
      "        [1, 1, 1, 1, 1, 1, 1, 1, 1, 1, 0, 0, 0],\n",
      "        [1, 1, 1, 1, 1, 1, 1, 1, 1, 1, 1, 0, 0]])}\n",
      "[{'label': 'POSITIVE', 'score': 0.9853574633598328}, {'label': 'POSITIVE', 'score': 0.9994865655899048}, {'label': 'NEGATIVE', 'score': 0.9979159235954285}]\n"
     ]
    }
   ],
   "source": [
    "print(input_tensors)\n",
    "\n",
    "print(classifier(raw_inputs))"
   ]
  },
  {
   "cell_type": "code",
   "execution_count": null,
   "metadata": {},
   "outputs": [],
   "source": []
  }
 ],
 "metadata": {
  "kernelspec": {
   "display_name": "hugging-face",
   "language": "python",
   "name": "python3"
  },
  "language_info": {
   "codemirror_mode": {
    "name": "ipython",
    "version": 3
   },
   "file_extension": ".py",
   "mimetype": "text/x-python",
   "name": "python",
   "nbconvert_exporter": "python",
   "pygments_lexer": "ipython3",
   "version": "3.8.2"
  }
 },
 "nbformat": 4,
 "nbformat_minor": 2
}
